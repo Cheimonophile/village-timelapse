{
 "cells": [
  {
   "cell_type": "markdown",
   "metadata": {},
   "source": [
    "## Imports"
   ]
  },
  {
   "cell_type": "code",
   "execution_count": 24,
   "metadata": {},
   "outputs": [],
   "source": [
    "import imageio\n",
    "import os\n",
    "import shutil\n",
    "import os\n",
    "# from tqdm import tqdm"
   ]
  },
  {
   "cell_type": "markdown",
   "metadata": {},
   "source": [
    "## Constants"
   ]
  },
  {
   "cell_type": "code",
   "execution_count": 25,
   "metadata": {},
   "outputs": [],
   "source": [
    "MC_SCREENSHOTS_DIR = '../Minecraft Fabric/screenshots'\n",
    "SCREENSHOTS_DIR = 'screenshots'"
   ]
  },
  {
   "cell_type": "markdown",
   "metadata": {},
   "source": [
    "## Copy Most Recent Screenshot"
   ]
  },
  {
   "cell_type": "code",
   "execution_count": 26,
   "metadata": {},
   "outputs": [
    {
     "data": {
      "text/plain": [
       "'screenshots/2024-09-21_22.21.48.png'"
      ]
     },
     "execution_count": 26,
     "metadata": {},
     "output_type": "execute_result"
    }
   ],
   "source": [
    "newest_screenshot = max(filepath for filepath in os.listdir(MC_SCREENSHOTS_DIR) if filepath.endswith('.png'))\n",
    "shutil.copyfile(f\"{MC_SCREENSHOTS_DIR}/{newest_screenshot}\", f\"{SCREENSHOTS_DIR}/{newest_screenshot}\")"
   ]
  },
  {
   "cell_type": "markdown",
   "metadata": {},
   "source": [
    "## Make Gif"
   ]
  },
  {
   "cell_type": "code",
   "execution_count": 27,
   "metadata": {},
   "outputs": [
    {
     "name": "stderr",
     "output_type": "stream",
     "text": [
      "/var/folders/mp/_x820dj94w9f96w98s9crvtc0000gn/T/ipykernel_42390/4210682861.py:3: DeprecationWarning: Starting with ImageIO v3 the behavior of this function will switch to that of iio.v3.imread. To keep the current behavior (and make this warning disappear) use `import imageio.v2 as imageio` or call `imageio.v2.imread` directly.\n",
      "  imageio.imread(filename)\n"
     ]
    }
   ],
   "source": [
    "filenames = sorted(f\"{SCREENSHOTS_DIR}/{filename}\" for filename in os.listdir(SCREENSHOTS_DIR) if filename.endswith('.png'))\n",
    "images = [\n",
    "    imageio.imread(filename)\n",
    "    for filename in filenames\n",
    "]\n",
    "try:\n",
    "  os.remove('timelapse.gif')\n",
    "except: pass\n",
    "with imageio.get_writer('timelapse.gif', mode='I', loop=0, fps=5) as writer:\n",
    "  for image in images:\n",
    "    writer.append_data(image)\n",
    "# images[0].save(\n",
    "#     'timelapse.gif', \n",
    "#     save_all = True,\n",
    "#     append_images = images[1:],  \n",
    "#     optimize = False,\n",
    "#     duration = 10,\n",
    "#     loop=0\n",
    "# )"
   ]
  }
 ],
 "metadata": {
  "kernelspec": {
   "display_name": "Python 3",
   "language": "python",
   "name": "python3"
  },
  "language_info": {
   "codemirror_mode": {
    "name": "ipython",
    "version": 3
   },
   "file_extension": ".py",
   "mimetype": "text/x-python",
   "name": "python",
   "nbconvert_exporter": "python",
   "pygments_lexer": "ipython3",
   "version": "3.12.0"
  },
  "orig_nbformat": 4
 },
 "nbformat": 4,
 "nbformat_minor": 2
}
