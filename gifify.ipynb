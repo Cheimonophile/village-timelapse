{
 "cells": [
  {
   "cell_type": "markdown",
   "metadata": {},
   "source": [
    "## Imports"
   ]
  },
  {
   "cell_type": "code",
   "execution_count": 9,
   "metadata": {},
   "outputs": [],
   "source": [
    "from PIL import Image\n",
    "import os\n",
    "import shutil\n",
    "# from tqdm import tqdm"
   ]
  },
  {
   "cell_type": "markdown",
   "metadata": {},
   "source": [
    "## Constants"
   ]
  },
  {
   "cell_type": "code",
   "execution_count": 10,
   "metadata": {},
   "outputs": [],
   "source": [
    "MC_SCREENSHOTS_DIR = '../Minecraft Fabric/screenshots'\n",
    "SCREENSHOTS_DIR = 'screenshots'"
   ]
  },
  {
   "cell_type": "markdown",
   "metadata": {},
   "source": [
    "## Copy Most Recent Screenshot"
   ]
  },
  {
   "cell_type": "code",
   "execution_count": 11,
   "metadata": {},
   "outputs": [
    {
     "data": {
      "text/plain": [
       "'screenshots/2024-08-01_17.56.12.png'"
      ]
     },
     "execution_count": 11,
     "metadata": {},
     "output_type": "execute_result"
    }
   ],
   "source": [
    "newest_screenshot = max(filepath for filepath in os.listdir(MC_SCREENSHOTS_DIR) if filepath.endswith('.png'))\n",
    "shutil.copyfile(f\"{MC_SCREENSHOTS_DIR}/{newest_screenshot}\", f\"{SCREENSHOTS_DIR}/{newest_screenshot}\")"
   ]
  },
  {
   "cell_type": "markdown",
   "metadata": {},
   "source": [
    "## Make Gif"
   ]
  },
  {
   "cell_type": "code",
   "execution_count": 12,
   "metadata": {},
   "outputs": [],
   "source": [
    "filenames = sorted(f\"{SCREENSHOTS_DIR}/{filename}\" for filename in os.listdir(SCREENSHOTS_DIR) if filename.endswith('.png'))\n",
    "images = [\n",
    "    Image.open(filename)\n",
    "    for filename in filenames\n",
    "]\n",
    "images[0].save(\n",
    "    'timelapse.gif', \n",
    "    save_all = True,\n",
    "    append_images = images[1:],  \n",
    "    optimize = False,\n",
    "    duration = 10,\n",
    "    loop=0\n",
    ")"
   ]
  }
 ],
 "metadata": {
  "kernelspec": {
   "display_name": "Python 3",
   "language": "python",
   "name": "python3"
  },
  "language_info": {
   "codemirror_mode": {
    "name": "ipython",
    "version": 3
   },
   "file_extension": ".py",
   "mimetype": "text/x-python",
   "name": "python",
   "nbconvert_exporter": "python",
   "pygments_lexer": "ipython3",
   "version": "3.12.0"
  },
  "orig_nbformat": 4
 },
 "nbformat": 4,
 "nbformat_minor": 2
}
